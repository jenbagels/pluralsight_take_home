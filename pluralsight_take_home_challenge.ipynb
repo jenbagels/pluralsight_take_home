{
 "cells": [
  {
   "cell_type": "raw",
   "metadata": {},
   "source": [
    "# Pluralsight Data Science Take Home Challenge\n",
    "\n",
    "A short data science project used to assess a candidate's critical-\n",
    "thinking, Python 3 coding, data cleaning, and applied analysis skills.\n",
    "\n",
    "## TIME\n",
    "* A candidate with 3 years of hands-on experience in data science should be\n",
    "able to complete this challenge in ~2 hours.\n",
    "* There is NO time limit. Candidates may spend as much time as they want on\n",
    "the challenge before submitting it.\n",
    "## SUBMISSION REQUIREMENTS\n",
    "A solution submission must be...\n",
    "* Written in Python 3.\n",
    "* Shared via GitLab, GitHub, or Binder.\n",
    "* Include a fully-executed Jupyter notebook. For security reasons, we will\n",
    "not be running any submitted code.\n",
    "* Include predictions for all 20 cases in the `_zeta-disease_prediction-\n",
    "data_` dataset.\n",
    "* Complete when it is submitted. We will only score the first submission.\n",
    "* The candidate's own, original work. Evidence of plagiarism will be\n",
    "grounds for rejecting the submission.\n",
    "\n",
    "## THE CHALLENGE: Zeta Disease Prediction\n",
    "\n",
    "### INTRODUCTION\n",
    "Mars Mission Control needs a good data-driven system for predicting Zeta\n",
    "Disease infection on the International Mars Colony.\n",
    "Use the `_zeta-disease_training-data_` dataset to build a model that can\n",
    "predict who will be infected by Zeta Disease.\n",
    "Apply your model to the `_zeta-disease_prediction-data_` dataset to predict\n",
    "who will be infected by Zeta Disease.\n",
    "\n",
    "### DATASET\n",
    "The dataset includes 9 columns with information on 800 people.\n",
    "1. age : in years\n",
    "2. weight : body weight in pounds (lbs)\n",
    "3. bmi : Body Mass Index (weight in kg/(height in m)2)\n",
    "4. blood_pressure : resting blood pressure (mm Hg)\n",
    "5. insulin_test : inuslin test value\n",
    "6. liver_stress_test : liver_stress_test value\n",
    "7. cardio_stress_test : cardio_stress_test value\n",
    "8. years_smoking : number of years of smoking\n",
    "9. zeta_disease :\n",
    "1 = yes;\n",
    "0 = no"
   ]
  },
  {
   "cell_type": "code",
   "execution_count": 53,
   "metadata": {},
   "outputs": [],
   "source": [
    "import pandas as pd\n",
    "import numpy as np\n",
    "from sklearn.preprocessing import scale\n",
    "from sklearn.model_selection import train_test_split\n",
    "from sklearn.linear_model import LogisticRegression\n",
    "from sklearn.metrics import accuracy_score\n",
    "from sklearn.neighbors import KNeighborsClassifier\n",
    "from sklearn.ensemble import RandomForestClassifier as RFC\n",
    "from sklearn.svm import LinearSVC\n",
    "from sklearn.model_selection import GridSearchCV\n",
    "import xgboost as xgb"
   ]
  },
  {
   "cell_type": "markdown",
   "metadata": {},
   "source": [
    "## Data Prep"
   ]
  },
  {
   "cell_type": "code",
   "execution_count": 4,
   "metadata": {},
   "outputs": [],
   "source": [
    "df = pd.read_excel('recruiting_zeta-disease_training-data_take-home-challenge (1).xlsx')"
   ]
  },
  {
   "cell_type": "code",
   "execution_count": 5,
   "metadata": {},
   "outputs": [
    {
     "data": {
      "text/html": [
       "<div>\n",
       "<style scoped>\n",
       "    .dataframe tbody tr th:only-of-type {\n",
       "        vertical-align: middle;\n",
       "    }\n",
       "\n",
       "    .dataframe tbody tr th {\n",
       "        vertical-align: top;\n",
       "    }\n",
       "\n",
       "    .dataframe thead th {\n",
       "        text-align: right;\n",
       "    }\n",
       "</style>\n",
       "<table border=\"1\" class=\"dataframe\">\n",
       "  <thead>\n",
       "    <tr style=\"text-align: right;\">\n",
       "      <th></th>\n",
       "      <th>age</th>\n",
       "      <th>weight</th>\n",
       "      <th>bmi</th>\n",
       "      <th>blood_pressure</th>\n",
       "      <th>insulin_test</th>\n",
       "      <th>liver_stress_test</th>\n",
       "      <th>cardio_stress_test</th>\n",
       "      <th>years_smoking</th>\n",
       "      <th>zeta_disease</th>\n",
       "    </tr>\n",
       "  </thead>\n",
       "  <tbody>\n",
       "    <tr>\n",
       "      <th>0</th>\n",
       "      <td>54.0</td>\n",
       "      <td>189.0</td>\n",
       "      <td>27.1</td>\n",
       "      <td>80.0</td>\n",
       "      <td>0.0</td>\n",
       "      <td>1.5038</td>\n",
       "      <td>0.0</td>\n",
       "      <td>10.0</td>\n",
       "      <td>0.0</td>\n",
       "    </tr>\n",
       "    <tr>\n",
       "      <th>1</th>\n",
       "      <td>23.0</td>\n",
       "      <td>150.0</td>\n",
       "      <td>38.5</td>\n",
       "      <td>68.0</td>\n",
       "      <td>71.0</td>\n",
       "      <td>0.3868</td>\n",
       "      <td>55.0</td>\n",
       "      <td>2.0</td>\n",
       "      <td>0.0</td>\n",
       "    </tr>\n",
       "    <tr>\n",
       "      <th>2</th>\n",
       "      <td>47.0</td>\n",
       "      <td>186.0</td>\n",
       "      <td>29.9</td>\n",
       "      <td>90.0</td>\n",
       "      <td>0.0</td>\n",
       "      <td>0.2728</td>\n",
       "      <td>0.0</td>\n",
       "      <td>7.0</td>\n",
       "      <td>0.0</td>\n",
       "    </tr>\n",
       "    <tr>\n",
       "      <th>3</th>\n",
       "      <td>18.0</td>\n",
       "      <td>150.0</td>\n",
       "      <td>30.8</td>\n",
       "      <td>70.0</td>\n",
       "      <td>1033.0</td>\n",
       "      <td>0.6598</td>\n",
       "      <td>56.0</td>\n",
       "      <td>0.0</td>\n",
       "      <td>0.0</td>\n",
       "    </tr>\n",
       "    <tr>\n",
       "      <th>4</th>\n",
       "      <td>24.0</td>\n",
       "      <td>160.0</td>\n",
       "      <td>32.4</td>\n",
       "      <td>74.0</td>\n",
       "      <td>125.0</td>\n",
       "      <td>0.7608</td>\n",
       "      <td>59.0</td>\n",
       "      <td>2.0</td>\n",
       "      <td>0.0</td>\n",
       "    </tr>\n",
       "  </tbody>\n",
       "</table>\n",
       "</div>"
      ],
      "text/plain": [
       "    age  weight   bmi  blood_pressure  insulin_test  liver_stress_test  \\\n",
       "0  54.0   189.0  27.1            80.0           0.0             1.5038   \n",
       "1  23.0   150.0  38.5            68.0          71.0             0.3868   \n",
       "2  47.0   186.0  29.9            90.0           0.0             0.2728   \n",
       "3  18.0   150.0  30.8            70.0        1033.0             0.6598   \n",
       "4  24.0   160.0  32.4            74.0         125.0             0.7608   \n",
       "\n",
       "   cardio_stress_test  years_smoking  zeta_disease  \n",
       "0                 0.0           10.0           0.0  \n",
       "1                55.0            2.0           0.0  \n",
       "2                 0.0            7.0           0.0  \n",
       "3                56.0            0.0           0.0  \n",
       "4                59.0            2.0           0.0  "
      ]
     },
     "execution_count": 5,
     "metadata": {},
     "output_type": "execute_result"
    }
   ],
   "source": [
    "df.head()"
   ]
  },
  {
   "cell_type": "code",
   "execution_count": 8,
   "metadata": {},
   "outputs": [],
   "source": [
    "df_x = df[['age','weight', 'bmi', 'blood_pressure', 'insulin_test', 'liver_stress_test', 'cardio_stress_test', 'years_smoking']]\n",
    "df_y = df['zeta_disease']"
   ]
  },
  {
   "cell_type": "code",
   "execution_count": 19,
   "metadata": {},
   "outputs": [
    {
     "data": {
      "text/plain": [
       "(800, 8)"
      ]
     },
     "execution_count": 19,
     "metadata": {},
     "output_type": "execute_result"
    }
   ],
   "source": [
    "df_x.shape"
   ]
  },
  {
   "cell_type": "code",
   "execution_count": 30,
   "metadata": {},
   "outputs": [],
   "source": [
    "X_train, X_test, y_train, y_test = train_test_split(df_x,df_y,stratify=df_y, test_size=0.20)"
   ]
  },
  {
   "cell_type": "code",
   "execution_count": 31,
   "metadata": {},
   "outputs": [
    {
     "name": "stdout",
     "output_type": "stream",
     "text": [
      "(640, 8)\n",
      "(160, 8)\n",
      "(640,)\n",
      "(160,)\n"
     ]
    }
   ],
   "source": [
    "print(X_train.shape)\n",
    "print(X_test.shape)\n",
    "print(y_train.shape)\n",
    "print(y_test.shape)"
   ]
  },
  {
   "cell_type": "markdown",
   "metadata": {},
   "source": [
    "## Model Testing"
   ]
  },
  {
   "cell_type": "code",
   "execution_count": 32,
   "metadata": {},
   "outputs": [
    {
     "name": "stdout",
     "output_type": "stream",
     "text": [
      "Train accuracy score: 0.790625\n",
      "Test accuracy score: 0.73125\n"
     ]
    }
   ],
   "source": [
    "# Logistic Regression\n",
    "\n",
    "logreg = LogisticRegression(max_iter=1000)\n",
    "logreg.fit(X_train,y_train)\n",
    "y_pred = logreg.predict(X_train)\n",
    "print('Train accuracy score:',accuracy_score(y_train,y_pred))\n",
    "print('Test accuracy score:', accuracy_score(y_test,logreg.predict(X_test)))"
   ]
  },
  {
   "cell_type": "code",
   "execution_count": 35,
   "metadata": {},
   "outputs": [
    {
     "name": "stdout",
     "output_type": "stream",
     "text": [
      "Train accuracy score: 0.8171875\n",
      "Test accuracy score: 0.6625\n"
     ]
    }
   ],
   "source": [
    "# K Nearest Neighbors\n",
    "\n",
    "knn = KNeighborsClassifier()\n",
    "knn.fit(X_train,y_train)\n",
    "y_pred = knn.predict(X_train)\n",
    "print('Train accuracy score:',accuracy_score(y_train,y_pred))\n",
    "print('Test accuracy score:',accuracy_score(y_test,knn.predict(X_test)))"
   ]
  },
  {
   "cell_type": "code",
   "execution_count": 44,
   "metadata": {},
   "outputs": [
    {
     "name": "stdout",
     "output_type": "stream",
     "text": [
      "Train accuracy score: 0.9734375\n",
      "Test accuracy score: 0.7125\n"
     ]
    }
   ],
   "source": [
    "# Random Forest\n",
    "\n",
    "rfc_b = RFC(n_estimators=10)\n",
    "rfc_b.fit(X_train,y_train)\n",
    "y_pred = rfc_b.predict(X_train)\n",
    "print('Train accuracy score:',accuracy_score(y_train,y_pred))\n",
    "print('Test accuracy score:', accuracy_score(y_test,rfc_b.predict(X_test)))"
   ]
  },
  {
   "cell_type": "code",
   "execution_count": 58,
   "metadata": {},
   "outputs": [
    {
     "name": "stdout",
     "output_type": "stream",
     "text": [
      "Train accuracy score: 1.0\n",
      "Test accuracy score: 0.7\n"
     ]
    }
   ],
   "source": [
    "# XGBoost\n",
    "\n",
    "df_x = scale(df_x)\n",
    "\n",
    "xgb_cl = xgb.XGBClassifier()\n",
    "xgb_cl.fit(X_train, y_train)\n",
    "y_pred = xgb_cl.predict(X_train)\n",
    "print('Train accuracy score:',accuracy_score(y_train,y_pred))\n",
    "print('Test accuracy score:', accuracy_score(y_test,xgb_cl.predict(X_test)))"
   ]
  },
  {
   "cell_type": "code",
   "execution_count": 54,
   "metadata": {},
   "outputs": [
    {
     "data": {
      "text/plain": [
       "0.8386190655475089"
      ]
     },
     "execution_count": 54,
     "metadata": {},
     "output_type": "execute_result"
    }
   ],
   "source": [
    "# tune XGBoost\n",
    "\n",
    "param_grid = {\n",
    "    \"max_depth\": [3, 4, 5, 7],\n",
    "    \"learning_rate\": [0.1, 0.01, 0.05],\n",
    "    \"gamma\": [0, 0.25, 1],\n",
    "    \"reg_lambda\": [0, 1, 10],\n",
    "    \"scale_pos_weight\": [1, 3, 5],\n",
    "    \"subsample\": [0.8],\n",
    "    \"colsample_bytree\": [0.5],\n",
    "}\n",
    "\n",
    "xgb_cl = xgb.XGBClassifier(objective=\"binary:logistic\")\n",
    "grid_cv = GridSearchCV(xgb_cl, param_grid, n_jobs=-1, cv=3, scoring=\"roc_auc\")\n",
    "_ = grid_cv.fit(df_x, df_y)\n",
    "grid_cv.best_score_"
   ]
  },
  {
   "cell_type": "code",
   "execution_count": 55,
   "metadata": {},
   "outputs": [
    {
     "data": {
      "text/plain": [
       "{'colsample_bytree': 0.5,\n",
       " 'gamma': 1,\n",
       " 'learning_rate': 0.01,\n",
       " 'max_depth': 4,\n",
       " 'reg_lambda': 0,\n",
       " 'scale_pos_weight': 1,\n",
       " 'subsample': 0.8}"
      ]
     },
     "execution_count": 55,
     "metadata": {},
     "output_type": "execute_result"
    }
   ],
   "source": [
    "grid_cv.best_params_"
   ]
  },
  {
   "cell_type": "code",
   "execution_count": 70,
   "metadata": {},
   "outputs": [
    {
     "name": "stdout",
     "output_type": "stream",
     "text": [
      "Train accuracy score: 0.865625\n",
      "Test accuracy score: 0.75625\n"
     ]
    }
   ],
   "source": [
    "final_cl = xgb.XGBClassifier(\n",
    "    **grid_cv.best_params_,\n",
    "    objective=\"binary:logistic\"\n",
    ")\n",
    "final_cl.fit(X_train, y_train)\n",
    "y_pred = final_cl.predict(X_train)\n",
    "print('Train accuracy score:',accuracy_score(y_train,y_pred))\n",
    "print('Test accuracy score:', accuracy_score(y_test,final_cl.predict(X_test)))"
   ]
  },
  {
   "cell_type": "markdown",
   "metadata": {},
   "source": [
    "## Final Predictions"
   ]
  },
  {
   "cell_type": "code",
   "execution_count": 64,
   "metadata": {},
   "outputs": [
    {
     "data": {
      "text/html": [
       "<div>\n",
       "<style scoped>\n",
       "    .dataframe tbody tr th:only-of-type {\n",
       "        vertical-align: middle;\n",
       "    }\n",
       "\n",
       "    .dataframe tbody tr th {\n",
       "        vertical-align: top;\n",
       "    }\n",
       "\n",
       "    .dataframe thead th {\n",
       "        text-align: right;\n",
       "    }\n",
       "</style>\n",
       "<table border=\"1\" class=\"dataframe\">\n",
       "  <thead>\n",
       "    <tr style=\"text-align: right;\">\n",
       "      <th></th>\n",
       "      <th>age</th>\n",
       "      <th>weight</th>\n",
       "      <th>bmi</th>\n",
       "      <th>blood_pressure</th>\n",
       "      <th>insulin_test</th>\n",
       "      <th>liver_stress_test</th>\n",
       "      <th>cardio_stress_test</th>\n",
       "      <th>years_smoking</th>\n",
       "    </tr>\n",
       "  </thead>\n",
       "  <tbody>\n",
       "    <tr>\n",
       "      <th>0</th>\n",
       "      <td>24.0</td>\n",
       "      <td>151.0</td>\n",
       "      <td>39.5</td>\n",
       "      <td>69.0</td>\n",
       "      <td>72.0</td>\n",
       "      <td>1.3968</td>\n",
       "      <td>56.0</td>\n",
       "      <td>4.0</td>\n",
       "    </tr>\n",
       "    <tr>\n",
       "      <th>1</th>\n",
       "      <td>27.0</td>\n",
       "      <td>179.0</td>\n",
       "      <td>35.5</td>\n",
       "      <td>89.0</td>\n",
       "      <td>156.0</td>\n",
       "      <td>1.6608</td>\n",
       "      <td>43.0</td>\n",
       "      <td>6.0</td>\n",
       "    </tr>\n",
       "    <tr>\n",
       "      <th>2</th>\n",
       "      <td>34.0</td>\n",
       "      <td>147.0</td>\n",
       "      <td>26.9</td>\n",
       "      <td>76.0</td>\n",
       "      <td>74.0</td>\n",
       "      <td>1.6958</td>\n",
       "      <td>53.0</td>\n",
       "      <td>2.0</td>\n",
       "    </tr>\n",
       "    <tr>\n",
       "      <th>3</th>\n",
       "      <td>35.0</td>\n",
       "      <td>206.0</td>\n",
       "      <td>32.4</td>\n",
       "      <td>73.0</td>\n",
       "      <td>127.0</td>\n",
       "      <td>1.4608</td>\n",
       "      <td>61.0</td>\n",
       "      <td>6.0</td>\n",
       "    </tr>\n",
       "    <tr>\n",
       "      <th>4</th>\n",
       "      <td>60.0</td>\n",
       "      <td>193.0</td>\n",
       "      <td>29.8</td>\n",
       "      <td>62.0</td>\n",
       "      <td>192.0</td>\n",
       "      <td>1.7798</td>\n",
       "      <td>65.0</td>\n",
       "      <td>9.0</td>\n",
       "    </tr>\n",
       "    <tr>\n",
       "      <th>5</th>\n",
       "      <td>45.0</td>\n",
       "      <td>120.0</td>\n",
       "      <td>36.5</td>\n",
       "      <td>108.0</td>\n",
       "      <td>50.0</td>\n",
       "      <td>1.2978</td>\n",
       "      <td>54.0</td>\n",
       "      <td>12.0</td>\n",
       "    </tr>\n",
       "    <tr>\n",
       "      <th>6</th>\n",
       "      <td>20.0</td>\n",
       "      <td>139.0</td>\n",
       "      <td>38.2</td>\n",
       "      <td>61.0</td>\n",
       "      <td>77.0</td>\n",
       "      <td>1.5818</td>\n",
       "      <td>68.0</td>\n",
       "      <td>3.0</td>\n",
       "    </tr>\n",
       "    <tr>\n",
       "      <th>7</th>\n",
       "      <td>23.0</td>\n",
       "      <td>137.0</td>\n",
       "      <td>31.2</td>\n",
       "      <td>70.0</td>\n",
       "      <td>73.0</td>\n",
       "      <td>1.4168</td>\n",
       "      <td>59.0</td>\n",
       "      <td>7.0</td>\n",
       "    </tr>\n",
       "    <tr>\n",
       "      <th>8</th>\n",
       "      <td>36.0</td>\n",
       "      <td>195.0</td>\n",
       "      <td>30.5</td>\n",
       "      <td>59.0</td>\n",
       "      <td>141.0</td>\n",
       "      <td>1.4498</td>\n",
       "      <td>59.0</td>\n",
       "      <td>6.0</td>\n",
       "    </tr>\n",
       "    <tr>\n",
       "      <th>9</th>\n",
       "      <td>19.0</td>\n",
       "      <td>193.0</td>\n",
       "      <td>25.8</td>\n",
       "      <td>84.0</td>\n",
       "      <td>66.0</td>\n",
       "      <td>1.7938</td>\n",
       "      <td>50.0</td>\n",
       "      <td>3.0</td>\n",
       "    </tr>\n",
       "    <tr>\n",
       "      <th>10</th>\n",
       "      <td>47.0</td>\n",
       "      <td>216.0</td>\n",
       "      <td>34.7</td>\n",
       "      <td>70.0</td>\n",
       "      <td>170.0</td>\n",
       "      <td>1.7238</td>\n",
       "      <td>58.0</td>\n",
       "      <td>7.0</td>\n",
       "    </tr>\n",
       "    <tr>\n",
       "      <th>11</th>\n",
       "      <td>40.0</td>\n",
       "      <td>200.0</td>\n",
       "      <td>30.4</td>\n",
       "      <td>69.0</td>\n",
       "      <td>128.0</td>\n",
       "      <td>1.3118</td>\n",
       "      <td>60.0</td>\n",
       "      <td>3.0</td>\n",
       "    </tr>\n",
       "    <tr>\n",
       "      <th>12</th>\n",
       "      <td>21.0</td>\n",
       "      <td>154.0</td>\n",
       "      <td>46.5</td>\n",
       "      <td>88.0</td>\n",
       "      <td>121.0</td>\n",
       "      <td>1.2498</td>\n",
       "      <td>68.0</td>\n",
       "      <td>4.0</td>\n",
       "    </tr>\n",
       "    <tr>\n",
       "      <th>13</th>\n",
       "      <td>52.0</td>\n",
       "      <td>196.0</td>\n",
       "      <td>31.3</td>\n",
       "      <td>90.0</td>\n",
       "      <td>167.0</td>\n",
       "      <td>1.9238</td>\n",
       "      <td>66.0</td>\n",
       "      <td>10.0</td>\n",
       "    </tr>\n",
       "    <tr>\n",
       "      <th>14</th>\n",
       "      <td>30.0</td>\n",
       "      <td>181.0</td>\n",
       "      <td>37.4</td>\n",
       "      <td>93.0</td>\n",
       "      <td>157.0</td>\n",
       "      <td>2.0508</td>\n",
       "      <td>80.0</td>\n",
       "      <td>5.0</td>\n",
       "    </tr>\n",
       "    <tr>\n",
       "      <th>15</th>\n",
       "      <td>46.0</td>\n",
       "      <td>213.0</td>\n",
       "      <td>26.5</td>\n",
       "      <td>70.0</td>\n",
       "      <td>133.0</td>\n",
       "      <td>1.4788</td>\n",
       "      <td>55.0</td>\n",
       "      <td>12.0</td>\n",
       "    </tr>\n",
       "    <tr>\n",
       "      <th>16</th>\n",
       "      <td>29.0</td>\n",
       "      <td>173.0</td>\n",
       "      <td>50.7</td>\n",
       "      <td>91.0</td>\n",
       "      <td>221.0</td>\n",
       "      <td>1.4878</td>\n",
       "      <td>83.0</td>\n",
       "      <td>3.0</td>\n",
       "    </tr>\n",
       "    <tr>\n",
       "      <th>17</th>\n",
       "      <td>36.0</td>\n",
       "      <td>202.0</td>\n",
       "      <td>42.8</td>\n",
       "      <td>72.0</td>\n",
       "      <td>273.0</td>\n",
       "      <td>1.8748</td>\n",
       "      <td>72.0</td>\n",
       "      <td>13.0</td>\n",
       "    </tr>\n",
       "    <tr>\n",
       "      <th>18</th>\n",
       "      <td>27.0</td>\n",
       "      <td>197.0</td>\n",
       "      <td>29.1</td>\n",
       "      <td>72.0</td>\n",
       "      <td>362.0</td>\n",
       "      <td>1.4298</td>\n",
       "      <td>69.0</td>\n",
       "      <td>4.0</td>\n",
       "    </tr>\n",
       "    <tr>\n",
       "      <th>19</th>\n",
       "      <td>44.0</td>\n",
       "      <td>184.0</td>\n",
       "      <td>33.9</td>\n",
       "      <td>104.0</td>\n",
       "      <td>141.0</td>\n",
       "      <td>1.3268</td>\n",
       "      <td>60.0</td>\n",
       "      <td>2.0</td>\n",
       "    </tr>\n",
       "  </tbody>\n",
       "</table>\n",
       "</div>"
      ],
      "text/plain": [
       "     age  weight   bmi  blood_pressure  insulin_test  liver_stress_test  \\\n",
       "0   24.0   151.0  39.5            69.0          72.0             1.3968   \n",
       "1   27.0   179.0  35.5            89.0         156.0             1.6608   \n",
       "2   34.0   147.0  26.9            76.0          74.0             1.6958   \n",
       "3   35.0   206.0  32.4            73.0         127.0             1.4608   \n",
       "4   60.0   193.0  29.8            62.0         192.0             1.7798   \n",
       "5   45.0   120.0  36.5           108.0          50.0             1.2978   \n",
       "6   20.0   139.0  38.2            61.0          77.0             1.5818   \n",
       "7   23.0   137.0  31.2            70.0          73.0             1.4168   \n",
       "8   36.0   195.0  30.5            59.0         141.0             1.4498   \n",
       "9   19.0   193.0  25.8            84.0          66.0             1.7938   \n",
       "10  47.0   216.0  34.7            70.0         170.0             1.7238   \n",
       "11  40.0   200.0  30.4            69.0         128.0             1.3118   \n",
       "12  21.0   154.0  46.5            88.0         121.0             1.2498   \n",
       "13  52.0   196.0  31.3            90.0         167.0             1.9238   \n",
       "14  30.0   181.0  37.4            93.0         157.0             2.0508   \n",
       "15  46.0   213.0  26.5            70.0         133.0             1.4788   \n",
       "16  29.0   173.0  50.7            91.0         221.0             1.4878   \n",
       "17  36.0   202.0  42.8            72.0         273.0             1.8748   \n",
       "18  27.0   197.0  29.1            72.0         362.0             1.4298   \n",
       "19  44.0   184.0  33.9           104.0         141.0             1.3268   \n",
       "\n",
       "    cardio_stress_test  years_smoking  \n",
       "0                 56.0            4.0  \n",
       "1                 43.0            6.0  \n",
       "2                 53.0            2.0  \n",
       "3                 61.0            6.0  \n",
       "4                 65.0            9.0  \n",
       "5                 54.0           12.0  \n",
       "6                 68.0            3.0  \n",
       "7                 59.0            7.0  \n",
       "8                 59.0            6.0  \n",
       "9                 50.0            3.0  \n",
       "10                58.0            7.0  \n",
       "11                60.0            3.0  \n",
       "12                68.0            4.0  \n",
       "13                66.0           10.0  \n",
       "14                80.0            5.0  \n",
       "15                55.0           12.0  \n",
       "16                83.0            3.0  \n",
       "17                72.0           13.0  \n",
       "18                69.0            4.0  \n",
       "19                60.0            2.0  "
      ]
     },
     "execution_count": 64,
     "metadata": {},
     "output_type": "execute_result"
    }
   ],
   "source": [
    "df_final = pd.read_excel('recruiting_zeta-disease_prediction-data_take-home-challenge.xlsx')\n",
    "df_final = df_final.drop(columns = 'zeta_disease')\n",
    "df_final.head(20)"
   ]
  },
  {
   "cell_type": "code",
   "execution_count": 76,
   "metadata": {},
   "outputs": [
    {
     "name": "stdout",
     "output_type": "stream",
     "text": [
      "[1. 1. 1. 1. 1. 1. 1. 1. 1. 1. 1. 1. 1. 1. 1. 1. 0. 0. 0. 1.]\n"
     ]
    }
   ],
   "source": [
    "knn_preds = knn.predict(df_final)\n",
    "print(knn_preds)"
   ]
  }
 ],
 "metadata": {
  "kernelspec": {
   "display_name": "Python 3",
   "language": "python",
   "name": "python3"
  },
  "language_info": {
   "codemirror_mode": {
    "name": "ipython",
    "version": 3
   },
   "file_extension": ".py",
   "mimetype": "text/x-python",
   "name": "python",
   "nbconvert_exporter": "python",
   "pygments_lexer": "ipython3",
   "version": "3.8.3"
  },
  "widgets": {
   "application/vnd.jupyter.widget-state+json": {
    "state": {},
    "version_major": 2,
    "version_minor": 0
   }
  }
 },
 "nbformat": 4,
 "nbformat_minor": 4
}
